{
  "cells": [
    {
      "cell_type": "markdown",
      "metadata": {
        "colab_type": "text",
        "id": "view-in-github"
      },
      "source": [
        "<a href=\"https://colab.research.google.com/github/ian-ofgod/hpdga-autumn22-private/blob/main/cuda-track/colab.ipynb\" target=\"_parent\"><img src=\"https://colab.research.google.com/assets/colab-badge.svg\" alt=\"Open In Colab\"/></a>"
      ]
    },
    {
      "attachments": {},
      "cell_type": "markdown",
      "metadata": {},
      "source": [
        "Two options to profile:\n",
        "\n",
        "Use nvprof and then NVIDIA Visual Profiler\n",
        "\n",
        "A little bit intricated with MacOS install link\n",
        "You can install cuda 12.1 and then use \"nsys profile\" with NSight System\n",
        "\n",
        "Just run the cells below"
      ]
    },
    {
      "cell_type": "code",
      "execution_count": null,
      "metadata": {},
      "outputs": [],
      "source": [
        "# Download and install CUDA 12.1\n",
        "! set -x \\\n",
        "&& cd $(mktemp -d) \\\n",
        "&& wget https://developer.download.nvidia.com/compute/cuda/12.1.0/local_installers/cuda_12.1.0_530.30.02_linux.run \\\n",
        "&& sudo sh cuda_12.1.0_530.30.02_linux.run --silent --toolkit \\\n",
        "&& rm cuda_12.1.0_530.30.02_linux.run"
      ]
    },
    {
      "cell_type": "code",
      "execution_count": null,
      "metadata": {},
      "outputs": [],
      "source": [
        "import os\n",
        "\n",
        "# Add CUDA installation to PATH\n",
        "os.environ['PATH'] = os.environ['PATH'] + ':/usr/local/cuda/bin/'"
      ]
    },
    {
      "cell_type": "code",
      "execution_count": null,
      "metadata": {
        "id": "qeKo69RSz6Tq"
      },
      "outputs": [],
      "source": [
        "## THIS CELL IS USED CLONE YOUR PRIVATE REPOSITORY\n",
        "## to generate fine-grained token: https://docs.github.com/en/authentication/keeping-your-account-and-data-secure/creating-a-personal-access-token\n",
        "TOKEN = \"XXXXX\"                                   # CHANGE\n",
        "REPO_URL= \"github.com/USERNAME/REPO_NAME.git\"     # CHANGE\n",
        "USER_NAME = \"USERNAME\"                            # CHANGE\n",
        "USER_EMAIL = \"GITHUB_MAIL\"                        # CHANGE\n",
        "\n",
        "!git clone https://oauth2:$TOKEN@$REPO_URL\n",
        "%cd REPO_NAME/                                    # CHANGE\n",
        "!git remote set-url origin  https://oauth2:$TOKEN@$REPO_URL\n",
        "!git config user.name $USER_NAME\n",
        "!git config user.email $USER_EMAIL\n",
        "%cd cuda-track"
      ]
    },
    {
      "cell_type": "code",
      "execution_count": null,
      "metadata": {
        "id": "qkEYcWUBt5u8"
      },
      "outputs": [],
      "source": [
        "# COMMIT CHANGES\n",
        "\n",
        "#!git add                     # place the filename after add --> !git add file1 file2 file3\n",
        "!git add -A                   # commit all files\n",
        "!git commit -m \"TEST\" # change with a relevant commit message"
      ]
    },
    {
      "cell_type": "code",
      "execution_count": null,
      "metadata": {
        "id": "evSAUPzh4QHw"
      },
      "outputs": [],
      "source": [
        "# PUSH CHANGES\n",
        "!git push"
      ]
    },
    {
      "cell_type": "code",
      "execution_count": null,
      "metadata": {
        "id": "7Qm2dA8GXrf9"
      },
      "outputs": [],
      "source": [
        "# PULL CHANGES\n",
        "!git pull"
      ]
    },
    {
      "cell_type": "code",
      "execution_count": null,
      "metadata": {
        "id": "vOWACMzbyDh6"
      },
      "outputs": [],
      "source": [
        "# BUILD YOUR EXECUTABLE\n",
        "\n",
        "!mkdir exec & make"
      ]
    },
    {
      "cell_type": "code",
      "execution_count": null,
      "metadata": {
        "id": "kSZQHBcSuT-6"
      },
      "outputs": [],
      "source": [
        "# RUN YOUR EXECUTABLE\n",
        "\n",
        "!./exec/gcn-seq cora"
      ]
    },
    {
      "cell_type": "code",
      "execution_count": null,
      "metadata": {},
      "outputs": [],
      "source": [
        "# Profile your program obtaining the output to pass to NSight System\n",
        "!nsys profile --stats=true --cuda-um-gpu-page-faults=true --cuda-um-cpu-page-faults=true compiled"
      ]
    }
  ],
  "metadata": {
    "colab": {
      "include_colab_link": true,
      "provenance": []
    },
    "kernelspec": {
      "display_name": "Python 3",
      "name": "python3"
    },
    "language_info": {
      "name": "python"
    }
  },
  "nbformat": 4,
  "nbformat_minor": 0
}
