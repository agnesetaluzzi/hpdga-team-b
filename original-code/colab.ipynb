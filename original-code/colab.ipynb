{
  "cells": [
    {
      "attachments": {},
      "cell_type": "markdown",
      "metadata": {
        "colab_type": "text",
        "id": "view-in-github"
      },
      "source": [
        "<a href=\"https://colab.research.google.com/github/agnesetaluzzi/hpdga-team-b/blob/master/original-code/colab.ipynb\" target=\"_parent\"><img src=\"https://colab.research.google.com/assets/colab-badge.svg\" alt=\"Open In Colab\"/></a>"
      ]
    },
    {
      "cell_type": "code",
      "execution_count": null,
      "metadata": {
        "id": "qeKo69RSz6Tq"
      },
      "outputs": [],
      "source": [
        "## THIS CELL IS USED TO CLONE THE REPOSITORY\n",
        "\n",
        "REPO_URL= \"github.com/agnesetaluzzi/hpdga-team-b.git\"                   \n",
        "\n",
        "!git clone https://$REPO_URL\n",
        "%cd hpdga-team-b/original-code"
      ]
    },
    {
      "cell_type": "code",
      "execution_count": null,
      "metadata": {},
      "outputs": [],
      "source": [
        "# For downloading the REDDIT dataset\n",
        "\n",
        "!pip install DriveDownloader"
      ]
    },
    {
      "cell_type": "code",
      "execution_count": null,
      "metadata": {},
      "outputs": [],
      "source": [
        "# Here download the REDDIT dataset\n",
        "\n",
        "!ddl https://polimi365-my.sharepoint.com/:u:/g/personal/10580652_polimi_it/EZ2sYEbUVJxCtrIAFKX8q7YBXLxaZ3VfHgUU655WYxn6Tw?e=CADLjR -o ../data/reddit.graph\n",
        "\n",
        "!ddl https://polimi365-my.sharepoint.com/:u:/g/personal/10580652_polimi_it/EaQ4s6QZC9RErRSTmROshqwBab5JZUBJrY7AmQXjnkZqtQ?e=K3QCZf -o ../data/reddit.split\n",
        "\n",
        "!ddl https://polimi365-my.sharepoint.com/:u:/g/personal/10580652_polimi_it/EfuCLAlxlZhIjXuZgDLeknEBgdN2507Q4q79PLpKK9OD5A?e=afgtFu -o ../data/reddit.svmlight"
      ]
    },
    {
      "cell_type": "code",
      "execution_count": null,
      "metadata": {
        "id": "vOWACMzbyDh6"
      },
      "outputs": [],
      "source": [
        "# BUILD THE EXECUTABLE\n",
        "\n",
        "!mkdir exec & make"
      ]
    },
    {
      "cell_type": "code",
      "execution_count": null,
      "metadata": {
        "id": "kSZQHBcSuT-6"
      },
      "outputs": [],
      "source": [
        "# RUN THE EXECUTABLE\n",
        "\n",
        "!./exec/gcn-seq cora        # cora, citeseer, pubmed or reddit"
      ]
    }
  ],
  "metadata": {
    "colab": {
      "include_colab_link": true,
      "provenance": []
    },
    "kernelspec": {
      "display_name": "Python 3",
      "name": "python3"
    },
    "language_info": {
      "name": "python"
    }
  },
  "nbformat": 4,
  "nbformat_minor": 0
}
